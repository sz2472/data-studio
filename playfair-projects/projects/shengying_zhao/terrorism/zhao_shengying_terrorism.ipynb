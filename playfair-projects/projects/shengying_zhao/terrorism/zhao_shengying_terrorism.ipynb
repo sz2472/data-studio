{
 "cells": [
  {
   "cell_type": "code",
   "execution_count": 78,
   "metadata": {
    "collapsed": true
   },
   "outputs": [],
   "source": [
    "import pandas as pd\n",
    "import matplotlib.pyplot as plt\n",
    "import numpy as np\n",
    "import matplotlib\n",
    "matplotlib.rcParams['pdf.fonttype'] = 42\n",
    "%matplotlib inline"
   ]
  },
  {
   "cell_type": "code",
   "execution_count": 79,
   "metadata": {
    "collapsed": false
   },
   "outputs": [],
   "source": [
    "df = pd.read_csv(\"GTD-Export.csv\")"
   ]
  },
  {
   "cell_type": "code",
   "execution_count": 80,
   "metadata": {
    "collapsed": false
   },
   "outputs": [
    {
     "data": {
      "text/html": [
       "<div>\n",
       "<table border=\"1\" class=\"dataframe\">\n",
       "  <thead>\n",
       "    <tr style=\"text-align: right;\">\n",
       "      <th></th>\n",
       "      <th>GTD ID</th>\n",
       "      <th>DATE</th>\n",
       "      <th>COUNTRY</th>\n",
       "      <th>CITY</th>\n",
       "      <th>PERPETRATOR 1</th>\n",
       "      <th>GUNCERTAIN 1</th>\n",
       "      <th>PERPETRATOR 2</th>\n",
       "      <th>GUNCERTAIN 2</th>\n",
       "      <th>PERPETRATOR 3</th>\n",
       "      <th>GUNCERTAIN 3</th>\n",
       "      <th>...</th>\n",
       "      <th>TARGET TYPE 2</th>\n",
       "      <th>TARGET TYPE 3</th>\n",
       "      <th>REGION</th>\n",
       "      <th>ATTACK TYPE 1</th>\n",
       "      <th>ATTACK TYPE 2</th>\n",
       "      <th>ATTACK TYPE 3</th>\n",
       "      <th>WEAPON TYPE 1</th>\n",
       "      <th>WEAPON TYPE 2</th>\n",
       "      <th>WEAPON TYPE 3</th>\n",
       "      <th>WEAPON TYPE 4</th>\n",
       "    </tr>\n",
       "  </thead>\n",
       "  <tbody>\n",
       "    <tr>\n",
       "      <th>0</th>\n",
       "      <td>2.015020e+11</td>\n",
       "      <td>12/30/14</td>\n",
       "      <td>Pakistan</td>\n",
       "      <td>Buner district</td>\n",
       "      <td>Unknown</td>\n",
       "      <td>0</td>\n",
       "      <td>3</td>\n",
       "      <td>Unknown</td>\n",
       "      <td>Police</td>\n",
       "      <td>South Asia</td>\n",
       "      <td>...</td>\n",
       "      <td>Hostage Taking (Kidnapping)</td>\n",
       "      <td>Unknown</td>\n",
       "      <td>NaN</td>\n",
       "      <td>NaN</td>\n",
       "      <td>NaN</td>\n",
       "      <td>NaN</td>\n",
       "      <td>NaN</td>\n",
       "      <td>NaN</td>\n",
       "      <td>NaN</td>\n",
       "      <td>NaN</td>\n",
       "    </tr>\n",
       "    <tr>\n",
       "      <th>1</th>\n",
       "      <td>2.015010e+11</td>\n",
       "      <td>12/27/14</td>\n",
       "      <td>Afghanistan</td>\n",
       "      <td>Saberi district</td>\n",
       "      <td>Taliban</td>\n",
       "      <td>0</td>\n",
       "      <td>NaN</td>\n",
       "      <td>NaN</td>\n",
       "      <td>NaN</td>\n",
       "      <td>NaN</td>\n",
       "      <td>...</td>\n",
       "      <td>NaN</td>\n",
       "      <td>NaN</td>\n",
       "      <td>South Asia</td>\n",
       "      <td>Bombing/Explosion</td>\n",
       "      <td>NaN</td>\n",
       "      <td>NaN</td>\n",
       "      <td>Explosives/Bombs/Dynamite</td>\n",
       "      <td>NaN</td>\n",
       "      <td>NaN</td>\n",
       "      <td>NaN</td>\n",
       "    </tr>\n",
       "    <tr>\n",
       "      <th>2</th>\n",
       "      <td>2.014120e+11</td>\n",
       "      <td>12/31/14</td>\n",
       "      <td>Algeria</td>\n",
       "      <td>Algiers</td>\n",
       "      <td>Unknown</td>\n",
       "      <td>0</td>\n",
       "      <td>NaN</td>\n",
       "      <td>NaN</td>\n",
       "      <td>NaN</td>\n",
       "      <td>NaN</td>\n",
       "      <td>...</td>\n",
       "      <td>NaN</td>\n",
       "      <td>NaN</td>\n",
       "      <td>Middle East &amp; North Africa</td>\n",
       "      <td>Bombing/Explosion</td>\n",
       "      <td>NaN</td>\n",
       "      <td>NaN</td>\n",
       "      <td>Explosives/Bombs/Dynamite</td>\n",
       "      <td>NaN</td>\n",
       "      <td>NaN</td>\n",
       "      <td>NaN</td>\n",
       "    </tr>\n",
       "    <tr>\n",
       "      <th>3</th>\n",
       "      <td>2.014120e+11</td>\n",
       "      <td>12/30/14</td>\n",
       "      <td>Yemen</td>\n",
       "      <td>Ash Shihr</td>\n",
       "      <td>Al-Qaida in the Arabian Peninsula (AQAP)</td>\n",
       "      <td>0</td>\n",
       "      <td>NaN</td>\n",
       "      <td>NaN</td>\n",
       "      <td>NaN</td>\n",
       "      <td>NaN</td>\n",
       "      <td>...</td>\n",
       "      <td>Business</td>\n",
       "      <td>NaN</td>\n",
       "      <td>Middle East &amp; North Africa</td>\n",
       "      <td>Armed Assault</td>\n",
       "      <td>NaN</td>\n",
       "      <td>NaN</td>\n",
       "      <td>Firearms</td>\n",
       "      <td>NaN</td>\n",
       "      <td>NaN</td>\n",
       "      <td>NaN</td>\n",
       "    </tr>\n",
       "    <tr>\n",
       "      <th>4</th>\n",
       "      <td>2.014120e+11</td>\n",
       "      <td>12/30/14</td>\n",
       "      <td>Yemen</td>\n",
       "      <td>Ash Shihr</td>\n",
       "      <td>Al-Qaida in the Arabian Peninsula (AQAP)</td>\n",
       "      <td>0</td>\n",
       "      <td>NaN</td>\n",
       "      <td>NaN</td>\n",
       "      <td>NaN</td>\n",
       "      <td>NaN</td>\n",
       "      <td>...</td>\n",
       "      <td>Business</td>\n",
       "      <td>NaN</td>\n",
       "      <td>Middle East &amp; North Africa</td>\n",
       "      <td>Armed Assault</td>\n",
       "      <td>NaN</td>\n",
       "      <td>NaN</td>\n",
       "      <td>Firearms</td>\n",
       "      <td>NaN</td>\n",
       "      <td>NaN</td>\n",
       "      <td>NaN</td>\n",
       "    </tr>\n",
       "  </tbody>\n",
       "</table>\n",
       "<p>5 rows × 23 columns</p>\n",
       "</div>"
      ],
      "text/plain": [
       "         GTD ID      DATE      COUNTRY             CITY  \\\n",
       "0  2.015020e+11  12/30/14     Pakistan   Buner district   \n",
       "1  2.015010e+11  12/27/14  Afghanistan  Saberi district   \n",
       "2  2.014120e+11  12/31/14      Algeria          Algiers   \n",
       "3  2.014120e+11  12/30/14        Yemen        Ash Shihr   \n",
       "4  2.014120e+11  12/30/14        Yemen        Ash Shihr   \n",
       "\n",
       "                              PERPETRATOR 1  GUNCERTAIN 1 PERPETRATOR 2  \\\n",
       "0                                   Unknown             0             3   \n",
       "1                                   Taliban             0           NaN   \n",
       "2                                   Unknown             0           NaN   \n",
       "3  Al-Qaida in the Arabian Peninsula (AQAP)             0           NaN   \n",
       "4  Al-Qaida in the Arabian Peninsula (AQAP)             0           NaN   \n",
       "\n",
       "  GUNCERTAIN 2 PERPETRATOR 3 GUNCERTAIN 3      ...       \\\n",
       "0      Unknown        Police   South Asia      ...        \n",
       "1          NaN           NaN          NaN      ...        \n",
       "2          NaN           NaN          NaN      ...        \n",
       "3          NaN           NaN          NaN      ...        \n",
       "4          NaN           NaN          NaN      ...        \n",
       "\n",
       "                 TARGET TYPE 2 TARGET TYPE 3                      REGION  \\\n",
       "0  Hostage Taking (Kidnapping)       Unknown                         NaN   \n",
       "1                          NaN           NaN                  South Asia   \n",
       "2                          NaN           NaN  Middle East & North Africa   \n",
       "3                     Business           NaN  Middle East & North Africa   \n",
       "4                     Business           NaN  Middle East & North Africa   \n",
       "\n",
       "       ATTACK TYPE 1 ATTACK TYPE 2 ATTACK TYPE 3              WEAPON TYPE 1  \\\n",
       "0                NaN           NaN           NaN                        NaN   \n",
       "1  Bombing/Explosion           NaN           NaN  Explosives/Bombs/Dynamite   \n",
       "2  Bombing/Explosion           NaN           NaN  Explosives/Bombs/Dynamite   \n",
       "3      Armed Assault           NaN           NaN                   Firearms   \n",
       "4      Armed Assault           NaN           NaN                   Firearms   \n",
       "\n",
       "  WEAPON TYPE 2 WEAPON TYPE 3 WEAPON TYPE 4  \n",
       "0           NaN           NaN           NaN  \n",
       "1           NaN           NaN           NaN  \n",
       "2           NaN           NaN           NaN  \n",
       "3           NaN           NaN           NaN  \n",
       "4           NaN           NaN           NaN  \n",
       "\n",
       "[5 rows x 23 columns]"
      ]
     },
     "execution_count": 80,
     "metadata": {},
     "output_type": "execute_result"
    }
   ],
   "source": [
    "df.head(5)"
   ]
  },
  {
   "cell_type": "code",
   "execution_count": 81,
   "metadata": {
    "collapsed": false
   },
   "outputs": [
    {
     "data": {
      "text/plain": [
       "Index(['GTD ID', 'DATE', 'COUNTRY', 'CITY', 'PERPETRATOR 1', 'GUNCERTAIN 1',\n",
       "       'PERPETRATOR 2', 'GUNCERTAIN 2', 'PERPETRATOR 3', 'GUNCERTAIN 3',\n",
       "       'FATALITIES', 'INJURED', 'TARGET TYPE 1', 'TARGET TYPE 2',\n",
       "       'TARGET TYPE 3', 'REGION', 'ATTACK TYPE 1', 'ATTACK TYPE 2',\n",
       "       'ATTACK TYPE 3', 'WEAPON TYPE 1', 'WEAPON TYPE 2', 'WEAPON TYPE 3',\n",
       "       'WEAPON TYPE 4'],\n",
       "      dtype='object')"
      ]
     },
     "execution_count": 81,
     "metadata": {},
     "output_type": "execute_result"
    }
   ],
   "source": [
    "df.columns"
   ]
  },
  {
   "cell_type": "code",
   "execution_count": 82,
   "metadata": {
    "collapsed": false
   },
   "outputs": [],
   "source": [
    "df_new=df[['COUNTRY','FATALITIES']]"
   ]
  },
  {
   "cell_type": "code",
   "execution_count": 83,
   "metadata": {
    "collapsed": true
   },
   "outputs": [],
   "source": [
    "df2=df_new.drop(0)"
   ]
  },
  {
   "cell_type": "code",
   "execution_count": 84,
   "metadata": {
    "collapsed": false
   },
   "outputs": [
    {
     "data": {
      "text/html": [
       "<div>\n",
       "<table border=\"1\" class=\"dataframe\">\n",
       "  <thead>\n",
       "    <tr style=\"text-align: right;\">\n",
       "      <th></th>\n",
       "      <th>COUNTRY</th>\n",
       "      <th>FATALITIES</th>\n",
       "    </tr>\n",
       "  </thead>\n",
       "  <tbody>\n",
       "    <tr>\n",
       "      <th>1</th>\n",
       "      <td>Afghanistan</td>\n",
       "      <td>5</td>\n",
       "    </tr>\n",
       "    <tr>\n",
       "      <th>2</th>\n",
       "      <td>Algeria</td>\n",
       "      <td>0</td>\n",
       "    </tr>\n",
       "    <tr>\n",
       "      <th>3</th>\n",
       "      <td>Yemen</td>\n",
       "      <td>0</td>\n",
       "    </tr>\n",
       "    <tr>\n",
       "      <th>4</th>\n",
       "      <td>Yemen</td>\n",
       "      <td>0</td>\n",
       "    </tr>\n",
       "    <tr>\n",
       "      <th>5</th>\n",
       "      <td>Pakistan</td>\n",
       "      <td>1</td>\n",
       "    </tr>\n",
       "    <tr>\n",
       "      <th>6</th>\n",
       "      <td>Afghanistan</td>\n",
       "      <td>2</td>\n",
       "    </tr>\n",
       "    <tr>\n",
       "      <th>7</th>\n",
       "      <td>Afghanistan</td>\n",
       "      <td>5</td>\n",
       "    </tr>\n",
       "    <tr>\n",
       "      <th>8</th>\n",
       "      <td>Nigeria</td>\n",
       "      <td>Unknown</td>\n",
       "    </tr>\n",
       "    <tr>\n",
       "      <th>9</th>\n",
       "      <td>Nigeria</td>\n",
       "      <td>2</td>\n",
       "    </tr>\n",
       "    <tr>\n",
       "      <th>10</th>\n",
       "      <td>Nigeria</td>\n",
       "      <td>1</td>\n",
       "    </tr>\n",
       "  </tbody>\n",
       "</table>\n",
       "</div>"
      ],
      "text/plain": [
       "        COUNTRY FATALITIES\n",
       "1   Afghanistan          5\n",
       "2       Algeria          0\n",
       "3         Yemen          0\n",
       "4         Yemen          0\n",
       "5      Pakistan          1\n",
       "6   Afghanistan          2\n",
       "7   Afghanistan          5\n",
       "8       Nigeria    Unknown\n",
       "9       Nigeria          2\n",
       "10      Nigeria          1"
      ]
     },
     "execution_count": 84,
     "metadata": {},
     "output_type": "execute_result"
    }
   ],
   "source": [
    "df2.head(10)"
   ]
  },
  {
   "cell_type": "code",
   "execution_count": 85,
   "metadata": {
    "collapsed": false
   },
   "outputs": [
    {
     "data": {
      "text/plain": [
       "str"
      ]
     },
     "execution_count": 85,
     "metadata": {},
     "output_type": "execute_result"
    }
   ],
   "source": [
    "type(df2['FATALITIES'][1])"
   ]
  },
  {
   "cell_type": "code",
   "execution_count": 86,
   "metadata": {
    "collapsed": false
   },
   "outputs": [
    {
     "data": {
      "text/plain": [
       "0          400\n",
       "1          193\n",
       "2           95\n",
       "3           58\n",
       "Unknown     52\n",
       "4           41\n",
       "10          22\n",
       "5           21\n",
       "7           15\n",
       "8           13\n",
       "6           13\n",
       "9           10\n",
       "16           6\n",
       "12           5\n",
       "15           4\n",
       "20           4\n",
       "11           4\n",
       "27           4\n",
       "22           3\n",
       "50           2\n",
       "18           2\n",
       "51           2\n",
       "30           2\n",
       "90           2\n",
       "23           2\n",
       "17           2\n",
       "24           2\n",
       "111          1\n",
       "45           1\n",
       "33           1\n",
       "61           1\n",
       "157          1\n",
       "40           1\n",
       "14           1\n",
       "122          1\n",
       "35           1\n",
       "Police       1\n",
       "65           1\n",
       "21           1\n",
       "25           1\n",
       "47           1\n",
       "26           1\n",
       "13           1\n",
       "19           1\n",
       "36           1\n",
       "150          1\n",
       "31           1\n",
       "Name: FATALITIES, dtype: int64"
      ]
     },
     "execution_count": 86,
     "metadata": {},
     "output_type": "execute_result"
    }
   ],
   "source": [
    "df2['FATALITIES'].value_counts()"
   ]
  },
  {
   "cell_type": "code",
   "execution_count": 87,
   "metadata": {
    "collapsed": false
   },
   "outputs": [],
   "source": [
    "def to_int(x):\n",
    "    if x!= \"Police\" and x!=\"Unknown\":\n",
    "        return int(x)\n",
    "    else:\n",
    "        return 0"
   ]
  },
  {
   "cell_type": "code",
   "execution_count": 88,
   "metadata": {
    "collapsed": false
   },
   "outputs": [],
   "source": [
    "df2['Fatalities']=df2['FATALITIES'].apply(to_int)"
   ]
  },
  {
   "cell_type": "code",
   "execution_count": 89,
   "metadata": {
    "collapsed": false
   },
   "outputs": [
    {
     "data": {
      "text/plain": [
       "COUNTRY\n",
       "Iraq             935\n",
       "Nigeria          825\n",
       "Afghanistan      475\n",
       "Syria            429\n",
       "Pakistan         372\n",
       "Yemen            179\n",
       "Somalia          131\n",
       "India            128\n",
       "Sudan             87\n",
       "Russia            27\n",
       "United States      4\n",
       "Algeria            2\n",
       "Name: Fatalities, dtype: int64"
      ]
     },
     "execution_count": 89,
     "metadata": {},
     "output_type": "execute_result"
    }
   ],
   "source": [
    "df2.groupby('COUNTRY')['Fatalities'].sum().sort_values(ascending=False)"
   ]
  },
  {
   "cell_type": "code",
   "execution_count": 95,
   "metadata": {
    "collapsed": false
   },
   "outputs": [
    {
     "data": {
      "image/png": "[encoded data removed]",
      "text/plain": [
       "<matplotlib.figure.Figure at 0x10becaf98>"
      ]
     },
     "metadata": {},
     "output_type": "display_data"
    }
   ],
   "source": [
    "plt.style.use(\"fivethirtyeight\")\n",
    "fig,ax = plt.subplots(figsize=(10,5))\n",
    "df2.groupby('COUNTRY')['Fatalities'].sum().sort_values().plot(kind='barh',ax=ax)\n",
    "ax.set_title(\"Victims of Terrorist Attack Beyond Western Europe\",fontsize=18)\n",
    "ax.set_xlim([0,1000])\n",
    "ax.grid(color='MidnightBlue',linestyle=':',linewidth=0.5)\n",
    "ax.set_xlabel(\"Number of people killed by terrorist attacks in selected countries,2001-2014\",fontsize=12)\n",
    "ax.set_ylabel(\"Country\",fontsize=12)\n",
    "ax.legend(loc='lower right')\n",
    "ax.set_axisbelow(True)\n",
    "ax.spines['top'].set_visible(False)\n",
    "ax.spines['bottom'].set_visible(False)\n",
    "ax.spines['left'].set_visible(False)\n",
    "ax.spines['right'].set_visible(False)\n",
    "plt.tick_params(\n",
    "    axis='x',\n",
    "    which='major',\n",
    "    top='off',\n",
    "    bottom='off',\n",
    "    left='off',\n",
    "    right='off',\n",
    "    labeltop='off',\n",
    "    labelbottom='on')\n",
    "ax.set_axis_bgcolor(\"white\")\n",
    "plt.savefig(\"terrorism.pdf\",transparent=True)"
   ]
  },
  {
   "cell_type": "code",
   "execution_count": 94,
   "metadata": {
    "collapsed": false
   },
   "outputs": [
    {
     "data": {
      "text/plain": [
       "<matplotlib.figure.Figure at 0x10a07de80>"
      ]
     },
     "metadata": {},
     "output_type": "display_data"
    }
   ],
   "source": [
    "plt.savefig(\"terrorism.pdf\",transparent=True)"
   ]
  },
  {
   "cell_type": "code",
   "execution_count": null,
   "metadata": {
    "collapsed": true
   },
   "outputs": [],
   "source": []
  }
 ],
 "metadata": {
  "kernelspec": {
   "display_name": "Python 3",
   "language": "python",
   "name": "python3"
  },
  "language_info": {
   "codemirror_mode": {
    "name": "ipython",
    "version": 3
   },
   "file_extension": ".py",
   "mimetype": "text/x-python",
   "name": "python",
   "nbconvert_exporter": "python",
   "pygments_lexer": "ipython3",
   "version": "3.5.1"
  }
 },
 "nbformat": 4,
 "nbformat_minor": 0
}
